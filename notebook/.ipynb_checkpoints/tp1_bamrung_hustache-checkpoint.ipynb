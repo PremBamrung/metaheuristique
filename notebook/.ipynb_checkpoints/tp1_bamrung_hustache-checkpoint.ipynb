{
 "cells": [
  {
   "cell_type": "markdown",
   "metadata": {},
   "source": [
    "BAMRUNG Premchanok \n",
    "HUSTACHE Thomas \n",
    "VALDOM Janvier 2021"
   ]
  },
  {
   "cell_type": "markdown",
   "metadata": {},
   "source": [
    "# Tutorial 1 - Introduction to Constraint Programming\n",
    "\n",
    "### In other words, get ready to have your mind blown..."
   ]
  },
  {
   "cell_type": "markdown",
   "metadata": {},
   "source": [
    "## 1. Introduction & Context\n",
    "\n",
    "\n",
    "Constraint Programming is a rich declarative approach to solve combinatorial problems. This approach has been used to solve diverse real word applications such as scheduling, timetabling, planning, routing, supply chain, clustreing, data mining, classification, etc. \n",
    "\n",
    "    \n",
    "Constraint programming can be used to solve decision or optimisation problems. In both families, a problem must be stated as : \n",
    "- A set of variables (the unkown of the problem). Each variable $x$ is associated to a set of values $D(x)$ that is called to domain of $x$. The latter represents the possible values that $x$ can take. We will be using mostly integer finite variables. That is, a type of variables whose domain is a finite subset of  $\\mathbb{Z}$\n",
    "- A set of constraints. Each constraint restrics the possible combinantion of values allowed by the different varialbes in the scope of the constraint. For instance, the constraint $x<y$ restrics the value assigned to x to be less than the value assigned to y\n",
    "\n",
    "In a decision problem, for each variable $x$, the task is to assign a value from $\\cal D(x)$ to $x$ such that every constraint is satisfied. In an opptimisation problem, the purpose is exactly the same, however, among all the possible solutions, we look for one that minimises or maximizes an objective function. \n",
    "\n",
    "We will be working on both decision and optimition problems. Throughout these tutorials, we focus on the modelling aspect of constraint programming along with a solid understanding of what is happening within a solver. \n",
    "\n",
    "\n",
    "We find many constraint solvers in the literature that are developped by both acamemics (for instance http://www.choco-solver.org/, miniCP http://www.minicp.org/, and GeCode https://www.gecode.org/) and industrials (for instance Google OR Tools https://developers.google.com/optimization and IBM ILOG CPLEX CP Optimizer https://www.ibm.com/products/ilog-cplex-optimization-studio). \n",
    "\n",
    "For an up-to-date list of solvers, you can have a look at the following two annual solver competitions: \n",
    "- Minizinc Challenge https://www.minizinc.org/challenge.html : the list of solvers can be found here https://www.minizinc.org/challenge2019/results2019.html\n",
    "- http://xcsp.org/competition some  solvers can be found here http://www.cril.univ-artois.fr/XCSP19/results/results.php?idev=99 \n",
    "\n"
   ]
  },
  {
   "cell_type": "markdown",
   "metadata": {},
   "source": [
    "### 1.1. CpOptimizer\n",
    "\n",
    "\n",
    "In these tutorials, we will be using [IBM ILOG CPLEX CP Optimizer](https://www.ibm.com/analytics/cplex-cp-optimizer). This tool is an industrial constraint programming solver developped by IBM (previously [ILOG](https://en.wikipedia.org/wiki/ILOG)). The solver supports many programming languages and plateforms. We will be using a python interface called docplex. \n",
    "\n",
    "\n",
    "#### `docplex` - A python interface to CpOptimizer\n",
    "\n",
    "`docplex` is a python package that can be used to solve constraint programming problems in python using either:\n",
    "\n",
    "- a local installation of CpOptimizer;\n",
    "- a cloud version of CpOptimizer (requires an account and credentials from IBM).\n",
    "\n",
    "While being less versatile than the C++ interface of CpOptimizer, it is much easier and much more convenient to use.\n",
    "\n",
    "Throughout the different tutorials, you are required to consult regularly the documentation [`docplex` constraint programming documentation](http://ibmdecisionoptimization.github.io/docplex-doc/cp/index.html).\n",
    "\n",
    "\n",
    "*Note: While `docplex` is a python interface developped by IBM/ILOG and dedicated to `CpOptimizer` and `Cplex`, there are other interfaces that can be used to model and solve optimization problems in python using various backends such as Numberjack https://github.com/eomahony/Numberjack"
   ]
  },
  {
   "cell_type": "markdown",
   "metadata": {},
   "source": [
    "## 2. HELLO CP! \n",
    "\n",
    "First, you need to run the following python statements at the beginning of each notebook (and every time you restart a notebook):"
   ]
  },
  {
   "cell_type": "code",
   "execution_count": 1,
   "metadata": {
    "ExecuteTime": {
     "end_time": "2021-01-14T20:41:05.569414Z",
     "start_time": "2021-01-14T20:41:05.295080Z"
    }
   },
   "outputs": [],
   "source": [
    "from config import setup\n",
    "setup()"
   ]
  },
  {
   "cell_type": "code",
   "execution_count": 2,
   "metadata": {
    "ExecuteTime": {
     "end_time": "2021-01-14T20:41:05.572960Z",
     "start_time": "2021-01-14T20:41:05.570822Z"
    }
   },
   "outputs": [],
   "source": [
    "from docplex.cp.config import context\n",
    "context.solver.agent = 'local'\n",
    "context.solver.local.execfile = '/home/prembamrung/ibm/ILOG/CPLEX_Studio129/cpoptimizer/bin/x86-64_linux/cpoptimizer'"
   ]
  },
  {
   "cell_type": "markdown",
   "metadata": {},
   "source": [
    "**Exercice**: Create a simple model using `docplex` with:\n",
    "\n",
    "- 3 variables $x$, $y$, $z$\n",
    "- the same domain $\\cal{D} = \\left\\{1, 2, 3\\right\\}$ for each variable\n",
    "- the following constraints: $x \\ne y$, $x \\ne z$, $y \\ne z$\n",
    "\n",
    "\n",
    "<div class=\"alert alert-info alert-block\">\n",
    "\n",
    "Create a [`CpoModel`](http://ibmdecisionoptimization.github.io/docplex-doc/cp/docplex.cp.model.py.html#docplex.cp.model.CpoModel):\n",
    "\n",
    "```python\n",
    "mdl = CpoModel(name='My first docplex model')\n",
    "```\n",
    "\n",
    "Create variables using [`CpoModel.integer_var`](http://ibmdecisionoptimization.github.io/docplex-doc/cp/docplex.cp.expression.py.html#docplex.cp.expression.integer_var), [`CpoModel.integer_var_list`](http://ibmdecisionoptimization.github.io/docplex-doc/cp/docplex.cp.expression.py.html#docplex.cp.expression.integer_var_list) or [`CpoModel.integer_var_dict`](http://ibmdecisionoptimization.github.io/docplex-doc/cp/docplex.cp.expression.py.html#docplex.cp.expression.integer_var_dict).\n",
    "\n",
    "```python\n",
    "x, y, z = mdl.integer_var_list(3, 1, 3, 'x')\n",
    "```\n",
    "\n",
    "Add constraints using [`CpoModel.add`](http://ibmdecisionoptimization.github.io/docplex-doc/cp/docplex.cp.model.py.html#docplex.cp.model.CpoModel.add) using the common `!=` logical expression.\n",
    "\n",
    "```python\n",
    "mdl.add(x != y)\n",
    "```\n",
    "    \n",
    "</div>"
   ]
  },
  {
   "cell_type": "code",
   "execution_count": 3,
   "metadata": {
    "ExecuteTime": {
     "end_time": "2021-01-14T20:41:05.594229Z",
     "start_time": "2021-01-14T20:41:05.574267Z"
    }
   },
   "outputs": [],
   "source": [
    "from docplex.cp.model import CpoModel\n",
    "\n",
    "mdl = CpoModel(name='model_TP1')\n",
    "x, y, z = mdl.integer_var_list(3, 1, 3, 'x')\n",
    "mdl.add(x != y)\n",
    "mdl.add(x != z)\n",
    "mdl.add(y != z)\n",
    "# TODO"
   ]
  },
  {
   "cell_type": "markdown",
   "metadata": {},
   "source": [
    "**Exercice**: Solve the model you just created (see `CpoModel.solve()`) and print the solution found.\n",
    "\n",
    "<div class=\"alert alert-info alert-block\">\n",
    "\n",
    "Use [`CpoModel.solve`](http://ibmdecisionoptimization.github.io/docplex-doc/cp/docplex.cp.model.py.html#docplex.cp.model.CpoModel.solve) to solve the model:\n",
    "\n",
    "```python\n",
    "sol = mdl.solve()\n",
    "```\n",
    "\n",
    "You can use [`CpoSolveResult.print_solution`](http://ibmdecisionoptimization.github.io/docplex-doc/cp/docplex.cp.solution.py.html#docplex.cp.solution.CpoSolveResult.print_solution) to get an overview of the solution:\n",
    "\n",
    "```python\n",
    "sol.print_solution()\n",
    "```\n",
    "    \n",
    "</div>"
   ]
  },
  {
   "cell_type": "code",
   "execution_count": 4,
   "metadata": {
    "ExecuteTime": {
     "end_time": "2021-01-14T20:41:05.610738Z",
     "start_time": "2021-01-14T20:41:05.595224Z"
    }
   },
   "outputs": [
    {
     "name": "stdout",
     "output_type": "stream",
     "text": [
      "-------------------------------------------------------------------------------\n",
      "Model constraints: 3, variables: integer: 3, interval: 0, sequence: 0\n",
      "Solve status: Feasible, Fail status: SearchHasNotFailed\n",
      "Search status: SearchCompleted, stop cause: SearchHasNotBeenStopped\n",
      "Solve time: 0.0 sec\n",
      "-------------------------------------------------------------------------------\n",
      "\n",
      "x_0: 1\n",
      "x_1: 3\n",
      "x_2: 2\n"
     ]
    }
   ],
   "source": [
    "sol = mdl.solve()\n",
    "sol.print_solution()"
   ]
  },
  {
   "cell_type": "markdown",
   "metadata": {},
   "source": [
    "**Exercice:** Retrieve the values of the variables in the solution.\n",
    "\n",
    "<div class=\"alert alert-info alert-block\">\n",
    "\n",
    "Use [`CpoSolveResult.get_value`](http://ibmdecisionoptimization.github.io/docplex-doc/cp/docplex.cp.solution.py.html#docplex.cp.solution.CpoSolveResult.get_value) or `CpoSolveResult.__getitem__` to retrieve the value of a variable:\n",
    "\n",
    "```python\n",
    "value_of_x = sol.get_value('x0')\n",
    "```\n",
    "Or\n",
    "```python\n",
    "value_of_x = sol[x]\n",
    "```\n",
    "    \n",
    "</div>"
   ]
  },
  {
   "cell_type": "code",
   "execution_count": 5,
   "metadata": {
    "ExecuteTime": {
     "end_time": "2021-01-14T20:41:05.613899Z",
     "start_time": "2021-01-14T20:41:05.611920Z"
    }
   },
   "outputs": [],
   "source": [
    "value_x = sol[x]\n",
    "value_y = sol[y]\n",
    "value_z = sol[z]"
   ]
  },
  {
   "cell_type": "markdown",
   "metadata": {},
   "source": [
    "**Exercice:** Consider again the solution objet `sol`. Use `sol.get_solver_log()` to get the solver log at the end\n",
    "and `sol.get_solver_infos()` to get all the statistics about the run. Check the search status via `sol.get_solve_status()`.\n",
    "\n",
    "- What is the total running time of the algorithm (`sol.get_solver_infos()['TotalTime']`)?\n",
    "- How many decisions are made (`sol.get_solver_infos()['NumberOfChoicePoints']`)? \n",
    "- How many fails did the algorithm encounter (`sol.get_solver_infos()['NumberOfFails']`)? "
   ]
  },
  {
   "cell_type": "code",
   "execution_count": 6,
   "metadata": {
    "ExecuteTime": {
     "end_time": "2021-01-14T20:41:05.624535Z",
     "start_time": "2021-01-14T20:41:05.614880Z"
    }
   },
   "outputs": [
    {
     "data": {
      "text/plain": [
       "' ! ----------------------------------------------------------------------------\\n ! Satisfiability problem - 3 variables, 3 constraints\\n ! Workers              = 1\\n ! Presolve             = Off\\n ! Initial process time : 0.00s (0.00s extraction + 0.00s propagation)\\n !  . Log search space  : 4.8 (before), 4.8 (after)\\n !  . Memory usage      : 266.8 kB (before), 266.8 kB (after)\\n ! Using sequential search.\\n ! ----------------------------------------------------------------------------\\n !               Branches  Non-fixed            Branch decision\\n *                      3  0.00s                  2  = x_2\\n ! ----------------------------------------------------------------------------\\n ! Search completed, 1 solution found.\\n ! ----------------------------------------------------------------------------\\n ! Number of branches     : 3\\n ! Number of fails        : 0\\n ! Total memory usage     : 602.0 kB (562.3 kB CP Optimizer + 39.6 kB Concert)\\n ! Time spent in solve    : 0.00s (0.00s engine + 0.00s extraction)\\n ! Search speed (br. / s) : 300.0\\n ! ----------------------------------------------------------------------------\\n'"
      ]
     },
     "execution_count": 6,
     "metadata": {},
     "output_type": "execute_result"
    }
   ],
   "source": [
    "sol.get_solver_log()"
   ]
  },
  {
   "cell_type": "code",
   "execution_count": 7,
   "metadata": {
    "ExecuteTime": {
     "end_time": "2021-01-14T20:41:05.631698Z",
     "start_time": "2021-01-14T20:41:05.628033Z"
    }
   },
   "outputs": [
    {
     "name": "stdout",
     "output_type": "stream",
     "text": [
      "0\n",
      "3\n",
      "0\n"
     ]
    }
   ],
   "source": [
    "print(sol.get_solver_infos()['TotalTime'])\n",
    "print(sol.get_solver_infos()['NumberOfChoicePoints'])\n",
    "print(sol.get_solver_infos()['NumberOfFails'])"
   ]
  },
  {
   "cell_type": "markdown",
   "metadata": {},
   "source": [
    "In the rest of the tutorials, we use *\"nodes\"* or *\"decisions\"* to talk about the the size of the search tree in terms of the choices made my the solver. "
   ]
  },
  {
   "cell_type": "markdown",
   "metadata": {},
   "source": [
    "**Question**: Is this the only possible solution? Print all possible solutions (see [`CpoModel.start_search`](http://ibmdecisionoptimization.github.io/docplex-doc/cp/docplex.cp.model.py.html#docplex.cp.model.CpoModel.start_search))."
   ]
  },
  {
   "cell_type": "code",
   "execution_count": 8,
   "metadata": {
    "ExecuteTime": {
     "end_time": "2021-01-14T20:41:05.652969Z",
     "start_time": "2021-01-14T20:41:05.635101Z"
    }
   },
   "outputs": [
    {
     "name": "stdout",
     "output_type": "stream",
     "text": [
      "-------------------------------------------------------------------------------\n",
      "Model constraints: 3, variables: integer: 3, interval: 0, sequence: 0\n",
      "Solve status: Feasible, Fail status: SearchHasNotFailed\n",
      "Search status: SearchOngoing, stop cause: SearchHasNotBeenStopped\n",
      "Solve time: 0.0 sec\n",
      "-------------------------------------------------------------------------------\n",
      "\n",
      "x_0: 1\n",
      "x_1: 3\n",
      "x_2: 2\n",
      "-------------------------------------------------------------------------------\n",
      "Model constraints: 3, variables: integer: 3, interval: 0, sequence: 0\n",
      "Solve status: Feasible, Fail status: SearchHasNotFailed\n",
      "Search status: SearchOngoing, stop cause: SearchHasNotBeenStopped\n",
      "Solve time: 0.0 sec\n",
      "-------------------------------------------------------------------------------\n",
      "\n",
      "x_0: 1\n",
      "x_1: 2\n",
      "x_2: 3\n",
      "-------------------------------------------------------------------------------\n",
      "Model constraints: 3, variables: integer: 3, interval: 0, sequence: 0\n",
      "Solve status: Feasible, Fail status: SearchHasNotFailed\n",
      "Search status: SearchOngoing, stop cause: SearchHasNotBeenStopped\n",
      "Solve time: 0.0 sec\n",
      "-------------------------------------------------------------------------------\n",
      "\n",
      "x_0: 3\n",
      "x_1: 2\n",
      "x_2: 1\n",
      "-------------------------------------------------------------------------------\n",
      "Model constraints: 3, variables: integer: 3, interval: 0, sequence: 0\n",
      "Solve status: Feasible, Fail status: SearchHasNotFailed\n",
      "Search status: SearchOngoing, stop cause: SearchHasNotBeenStopped\n",
      "Solve time: 0.0 sec\n",
      "-------------------------------------------------------------------------------\n",
      "\n",
      "x_0: 3\n",
      "x_1: 1\n",
      "x_2: 2\n",
      "-------------------------------------------------------------------------------\n",
      "Model constraints: 3, variables: integer: 3, interval: 0, sequence: 0\n",
      "Solve status: Feasible, Fail status: SearchHasNotFailed\n",
      "Search status: SearchOngoing, stop cause: SearchHasNotBeenStopped\n",
      "Solve time: 0.0 sec\n",
      "-------------------------------------------------------------------------------\n",
      "\n",
      "x_0: 2\n",
      "x_1: 1\n",
      "x_2: 3\n",
      "-------------------------------------------------------------------------------\n",
      "Model constraints: 3, variables: integer: 3, interval: 0, sequence: 0\n",
      "Solve status: Feasible, Fail status: SearchHasNotFailed\n",
      "Search status: SearchOngoing, stop cause: SearchHasNotBeenStopped\n",
      "Solve time: 0.0 sec\n",
      "-------------------------------------------------------------------------------\n",
      "\n",
      "x_0: 2\n",
      "x_1: 3\n",
      "x_2: 1\n"
     ]
    }
   ],
   "source": [
    "lsols = mdl.start_search()\n",
    "for sol in lsols:\n",
    "    sol.write()"
   ]
  },
  {
   "cell_type": "markdown",
   "metadata": {},
   "source": [
    "## 3. The AllDifferent Global Constraint\n",
    "\n",
    "### 3.1. Basic example"
   ]
  },
  {
   "cell_type": "markdown",
   "metadata": {},
   "source": [
    "We introduce in this section a magical concept in constraint programming called global constraints. A global constraint is any contstraint defined with a non-fixed arity. A global constraint in practice captures a sub-problem (or a pattern) that commonly occures in diverse problems. We will discover and understand the magic of global constraints step by step. "
   ]
  },
  {
   "cell_type": "markdown",
   "metadata": {},
   "source": [
    "Consider the following CSP (Constraint Satisfaction Problem)\n",
    "\n",
    "- Variables $w$, $x$, $y$, $z$\n",
    "- Domains: $\\cal{D}(w) = \\cal{D}(x) = \\cal{D}(y) = \\cal{D}(z) =  \\{1, 2,3 \\}$ \n",
    "- Constraints: $w \\ne x$,$w \\ne y$,$w \\ne z$, $x \\ne y$, $x \\ne z$, $y \\ne z$\n"
   ]
  },
  {
   "cell_type": "markdown",
   "metadata": {},
   "source": [
    "**Question:** Without using the solver, how many solutions are there for this problem? \n"
   ]
  },
  {
   "cell_type": "markdown",
   "metadata": {},
   "source": [
    "No solution were found."
   ]
  },
  {
   "cell_type": "markdown",
   "metadata": {},
   "source": [
    "**Exercice:** Using a pen and a paper, draw by hand the binary search tree with a lexicographical ordering for both variables and values under the following assumptions: \n",
    "- we assume that every decision is of the form \"Assign a value $v$ to a variable $x$\",\n",
    "- before taking the next decision, make sure you filter/propagate all the constraints. That is, you look at each constraint individually and ask the question: can we remove a value from the current domain of a variable in the scope of the constraint? If so, such value is removed and the process is repeated until no more filtering can happen. \n",
    "\n",
    "You can upload a photo of your drawing in the notebook. \n",
    "Please check your drawing with your professor before moving to the next step! \n"
   ]
  },
  {
   "cell_type": "markdown",
   "metadata": {},
   "source": [
    "<img src=\"binary_search_tree.png\">"
   ]
  },
  {
   "cell_type": "markdown",
   "metadata": {},
   "source": [
    "**Question:** How many decisions did you take? "
   ]
  },
  {
   "cell_type": "markdown",
   "metadata": {},
   "source": [
    "30"
   ]
  },
  {
   "cell_type": "markdown",
   "metadata": {},
   "source": [
    "**Exercice:** Write the appropriate CP model (called `model_1`) and solve it."
   ]
  },
  {
   "cell_type": "code",
   "execution_count": 9,
   "metadata": {
    "ExecuteTime": {
     "end_time": "2021-01-14T20:41:05.657719Z",
     "start_time": "2021-01-14T20:41:05.654229Z"
    }
   },
   "outputs": [],
   "source": [
    "mdl = CpoModel(name='model_TP1')\n",
    "w, x, y, z = mdl.integer_var_list(4, 1, 3, 'x')\n",
    "mdl.add(w != x)\n",
    "mdl.add(w != y)\n",
    "mdl.add(w != z)\n",
    "\n",
    "\n",
    "mdl.add(x != y)\n",
    "mdl.add(x != z)\n",
    "\n",
    "mdl.add(y != z)"
   ]
  },
  {
   "cell_type": "markdown",
   "metadata": {},
   "source": [
    "**Question:** What is the size of the search tree explored?"
   ]
  },
  {
   "cell_type": "code",
   "execution_count": 10,
   "metadata": {
    "ExecuteTime": {
     "end_time": "2021-01-14T20:41:05.676219Z",
     "start_time": "2021-01-14T20:41:05.658783Z"
    }
   },
   "outputs": [
    {
     "name": "stdout",
     "output_type": "stream",
     "text": [
      "-------------------------------------------------------------------------------\n",
      "Model constraints: 6, variables: integer: 4, interval: 0, sequence: 0\n",
      "Solve status: Infeasible, Fail status: SearchHasFailedNormally\n",
      "Search status: SearchCompleted, stop cause: SearchHasNotBeenStopped\n",
      "Solve time: 0.0 sec\n",
      "-------------------------------------------------------------------------------\n",
      "\n"
     ]
    },
    {
     "data": {
      "text/plain": [
       "8"
      ]
     },
     "execution_count": 10,
     "metadata": {},
     "output_type": "execute_result"
    }
   ],
   "source": [
    "sol_1 = mdl.solve()\n",
    "sol_1.print_solution()\n",
    "sol_1.get_solver_infos()['NumberOfChoicePoints']"
   ]
  },
  {
   "cell_type": "markdown",
   "metadata": {},
   "source": [
    "**Question:** How many failures did the solver encounter? "
   ]
  },
  {
   "cell_type": "code",
   "execution_count": 11,
   "metadata": {
    "ExecuteTime": {
     "end_time": "2021-01-14T20:41:05.681471Z",
     "start_time": "2021-01-14T20:41:05.677692Z"
    }
   },
   "outputs": [
    {
     "name": "stdout",
     "output_type": "stream",
     "text": [
      "0\n",
      "8\n",
      "0\n"
     ]
    }
   ],
   "source": [
    "print(sol.get_solver_infos()['TotalTime'])\n",
    "print(sol.get_solver_infos()['NumberOfChoicePoints'])\n",
    "print(sol.get_solver_infos()['NumberOfFails'])"
   ]
  },
  {
   "cell_type": "markdown",
   "metadata": {},
   "source": [
    "**Exercice**: Create a new model (called `model_2`), similar to the previous one, however using one *Alldifferent* constraint (look for `all_diff` in the documentation) and solve it."
   ]
  },
  {
   "cell_type": "code",
   "execution_count": 12,
   "metadata": {
    "ExecuteTime": {
     "end_time": "2021-01-14T20:41:05.699783Z",
     "start_time": "2021-01-14T20:41:05.683164Z"
    }
   },
   "outputs": [
    {
     "name": "stdout",
     "output_type": "stream",
     "text": [
      "-------------------------------------------------------------------------------\n",
      "Model constraints: 1, variables: integer: 4, interval: 0, sequence: 0\n",
      "Solve status: Infeasible, Fail status: SearchHasFailedNormally\n",
      "Search status: SearchCompleted, stop cause: SearchHasNotBeenStopped\n",
      "Solve time: 0.0 sec\n",
      "-------------------------------------------------------------------------------\n",
      "\n"
     ]
    }
   ],
   "source": [
    "mdl2 = CpoModel(name='model_TP2')\n",
    "w, x, y, z = mdl2.integer_var_list(4, 1, 3, 'x')\n",
    "\n",
    "mdl2.add(mdl2.all_diff([w, x, y, z]))\n",
    "sol = mdl2.solve()\n",
    "sol.print_solution()"
   ]
  },
  {
   "cell_type": "markdown",
   "metadata": {},
   "source": [
    "**Question:** What is the size of the search tree explored? How can you explain this? "
   ]
  },
  {
   "cell_type": "code",
   "execution_count": 13,
   "metadata": {
    "ExecuteTime": {
     "end_time": "2021-01-14T20:41:05.705454Z",
     "start_time": "2021-01-14T20:41:05.701557Z"
    }
   },
   "outputs": [
    {
     "name": "stdout",
     "output_type": "stream",
     "text": [
      "0\n",
      "0\n",
      "1\n"
     ]
    }
   ],
   "source": [
    "print(sol.get_solver_infos()['TotalTime'])\n",
    "print(sol.get_solver_infos()['NumberOfChoicePoints'])\n",
    "print(sol.get_solver_infos()['NumberOfFails'])"
   ]
  },
  {
   "cell_type": "markdown",
   "metadata": {},
   "source": [
    "He must first look to see if there are enough values in relation to the number of variables."
   ]
  },
  {
   "cell_type": "markdown",
   "metadata": {},
   "source": [
    "### 3.2. Moving to larger problems\n",
    "\n",
    "Let $n$ be a natural number and consider the following CSP: \n",
    "\n",
    "- Variables $x_1, x_2, \\ldots x_n$\n",
    "- Domains: $\\forall i \\in [1,n], \\cal{D}(x_i) = \\{1, 2 , \\ldots n-1\\}$ \n",
    "- Constraints: $\\forall i \\neq j,  x_i \\ne x_j$\n"
   ]
  },
  {
   "cell_type": "markdown",
   "metadata": {},
   "source": [
    "**Question:** Without using the solver, is this problem satisfiable? Why? "
   ]
  },
  {
   "cell_type": "markdown",
   "metadata": {},
   "source": [
    "not feasible, n>card(D(xi))"
   ]
  },
  {
   "cell_type": "markdown",
   "metadata": {},
   "source": [
    "**Exercice:** Write a function `model_decomposition(n)` that takes as input an integer $n$ and returns the CSP model of this problem using only binary inequalities (i.e., no global constraints)"
   ]
  },
  {
   "cell_type": "code",
   "execution_count": 14,
   "metadata": {
    "ExecuteTime": {
     "end_time": "2021-01-14T20:41:05.709481Z",
     "start_time": "2021-01-14T20:41:05.706624Z"
    }
   },
   "outputs": [],
   "source": [
    "def model_decomposition(n: int) -> CpoModel:\n",
    "\n",
    "    mdl = CpoModel(name='model_TP1')\n",
    "    X = mdl.integer_var_list(n, 1, n-1, 'x')\n",
    "    for i, xi in enumerate(X[:-1]):\n",
    "        for j in range(i+1, n):\n",
    "            mdl.add(xi != X[j])\n",
    "\n",
    "    return mdl"
   ]
  },
  {
   "cell_type": "markdown",
   "metadata": {},
   "source": [
    "**Exercice:** Call this function for $n= 10$ then solve the problem and plot the different statistics. How many nodes did the solver explore? What is the CPU time?"
   ]
  },
  {
   "cell_type": "code",
   "execution_count": 15,
   "metadata": {
    "ExecuteTime": {
     "end_time": "2021-01-14T20:41:08.282073Z",
     "start_time": "2021-01-14T20:41:05.710713Z"
    }
   },
   "outputs": [
    {
     "name": "stdout",
     "output_type": "stream",
     "text": [
      "-------------------------------------------------------------------------------\n",
      "Model constraints: 45, variables: integer: 10, interval: 0, sequence: 0\n",
      "Solve status: Infeasible, Fail status: SearchHasFailedNormally\n",
      "Search status: SearchCompleted, stop cause: SearchHasNotBeenStopped\n",
      "Solve time: 2.55 sec\n",
      "-------------------------------------------------------------------------------\n",
      "\n",
      "2.55 cpu time\n",
      "542330  nodes\n",
      "518557  fails\n"
     ]
    }
   ],
   "source": [
    "mdl = model_decomposition(10)\n",
    "sol = mdl.solve()\n",
    "sol.print_solution()\n",
    "\n",
    "print(sol.get_solver_infos()['TotalTime'], \"cpu time\")\n",
    "print(sol.get_solver_infos()['NumberOfChoicePoints'], \" nodes\")\n",
    "print(sol.get_solver_infos()['NumberOfFails'], \" fails\")"
   ]
  },
  {
   "cell_type": "markdown",
   "metadata": {},
   "source": [
    "**Exercice:** Write a function `model_using_alldiff(n)` that takes as input an integer $n$ and returns the CSP model of this problem using only one *AllDifferent* constraint."
   ]
  },
  {
   "cell_type": "code",
   "execution_count": 16,
   "metadata": {
    "ExecuteTime": {
     "end_time": "2021-01-14T20:41:08.302807Z",
     "start_time": "2021-01-14T20:41:08.283991Z"
    }
   },
   "outputs": [
    {
     "name": "stdout",
     "output_type": "stream",
     "text": [
      "-------------------------------------------------------------------------------\n",
      "Model constraints: 1, variables: integer: 10, interval: 0, sequence: 0\n",
      "Solve status: Infeasible, Fail status: SearchHasFailedNormally\n",
      "Search status: SearchCompleted, stop cause: SearchHasNotBeenStopped\n",
      "Solve time: 0.0 sec\n",
      "-------------------------------------------------------------------------------\n",
      "\n"
     ]
    }
   ],
   "source": [
    "def model_using_alldiff(n: int) -> CpoModel:\n",
    "\n",
    "    mdl = CpoModel(name='model_TP1')\n",
    "    X = mdl.integer_var_list(n, 1, n-1, 'x')\n",
    "    mdl.add(mdl.all_diff(X))\n",
    "    return mdl\n",
    "\n",
    "\n",
    "mdl = model_using_alldiff(10)\n",
    "sol = mdl.solve()\n",
    "sol.print_solution()"
   ]
  },
  {
   "cell_type": "markdown",
   "metadata": {},
   "source": [
    "**Exercice:** Call this function for $n=10$ then solve the problem and print the dlifferent statistics. How many nodes did the solver explore? What is the CPU time? "
   ]
  },
  {
   "cell_type": "code",
   "execution_count": 17,
   "metadata": {
    "ExecuteTime": {
     "end_time": "2021-01-14T20:41:08.308877Z",
     "start_time": "2021-01-14T20:41:08.304812Z"
    }
   },
   "outputs": [
    {
     "name": "stdout",
     "output_type": "stream",
     "text": [
      "0  cpu time\n",
      "0  nodes\n",
      "1  fails\n"
     ]
    }
   ],
   "source": [
    "print(sol.get_solver_infos()['TotalTime'], \" cpu time\")\n",
    "print(sol.get_solver_infos()['NumberOfChoicePoints'], \" nodes\")\n",
    "print(sol.get_solver_infos()['NumberOfFails'], \" fails\")"
   ]
  },
  {
   "cell_type": "markdown",
   "metadata": {},
   "source": [
    "**Question:** Do you start to appreciate global constraints? Why?  "
   ]
  },
  {
   "cell_type": "markdown",
   "metadata": {},
   "source": [
    "It takes much less time for the same result because all constraints are defined at once instead of making loops "
   ]
  },
  {
   "cell_type": "code",
   "execution_count": 18,
   "metadata": {
    "ExecuteTime": {
     "end_time": "2021-01-14T20:41:08.318955Z",
     "start_time": "2021-01-14T20:41:08.310492Z"
    }
   },
   "outputs": [
    {
     "data": {
      "text/plain": [
       "{'AverageFailDepth': 0,\n",
       " 'DepthFirstAverageIdleTime': 0,\n",
       " 'DepthFirstIdleTime': 0,\n",
       " 'DepthFirstIdleTimePercentage': 0,\n",
       " 'DeterministicTimePerBranch': 0,\n",
       " 'EffectiveDepthFirstWorkers': 0,\n",
       " 'EffectiveIterativeDivingWorkers': 0,\n",
       " 'EffectiveMultiPointWorkers': 0,\n",
       " 'EffectiveOptimalityTolerance': 'infinity',\n",
       " 'EffectiveRestartWorkers': 1,\n",
       " 'EffectiveWorkers': 1,\n",
       " 'EngineAverageIdleTime': 0,\n",
       " 'EngineIdleTime': 0,\n",
       " 'EngineIdleTimeCount': 0,\n",
       " 'EngineIdleTimePercentage': 0,\n",
       " 'EngineIdleTimeSum': 0,\n",
       " 'EngineMaxIdleTime': 0,\n",
       " 'EngineMemoryUsage': 322662,\n",
       " 'ExtractionTime': 0,\n",
       " 'FailDepthCount': 0,\n",
       " 'FailDepthSum': 0,\n",
       " 'FailStatus': 'SearchHasFailedNormally',\n",
       " 'Gap': 'infinity',\n",
       " 'IterativeDivingAverageIdleTime': 0,\n",
       " 'IterativeDivingIdleTime': 0,\n",
       " 'IterativeDivingIdleTimePercentage': 0,\n",
       " 'MemoryUsage': 502790,\n",
       " 'MultiPointAverageIdleTime': 0,\n",
       " 'MultiPointIdleTime': 0,\n",
       " 'MultiPointIdleTimePercentage': 0,\n",
       " 'NumberOfAuxiliaryVariables': 0,\n",
       " 'NumberOfBranches': 0,\n",
       " 'NumberOfChoicePoints': 0,\n",
       " 'NumberOfConstraints': 1,\n",
       " 'NumberOfConstraintsAdded': 0,\n",
       " 'NumberOfConstraintsAggregated': 0,\n",
       " 'NumberOfConstraintsGenerated': 0,\n",
       " 'NumberOfConstraintsRemoved': 0,\n",
       " 'NumberOfCriteria': 0,\n",
       " 'NumberOfEngineConstraints': 0,\n",
       " 'NumberOfEngineVariables': 10,\n",
       " 'NumberOfErrors': 0,\n",
       " 'NumberOfFails': 1,\n",
       " 'NumberOfIntegerVariables': 10,\n",
       " 'NumberOfIntervalVariables': 0,\n",
       " 'NumberOfModelVariables': 10,\n",
       " 'NumberOfPresolveTransformations': 0,\n",
       " 'NumberOfSequenceVariables': 0,\n",
       " 'NumberOfSolutions': 0,\n",
       " 'NumberOfStateFunctions': 0,\n",
       " 'NumberOfUnboundModelVariables': 10,\n",
       " 'NumberOfUnboundModelVariablesInLogPeriod': 'intmax',\n",
       " 'NumberOfVariables': 10,\n",
       " 'NumberOfWarnings': 1,\n",
       " 'NumberOfWorkerSynchronizations': 0,\n",
       " 'PeakMemoryUsage': 502790,\n",
       " 'PresolveTime': 0,\n",
       " 'RestartAverageIdleTime': 0,\n",
       " 'RestartIdleTime': 0,\n",
       " 'RestartIdleTimePercentage': 0,\n",
       " 'SearchDeterministicTime': 0,\n",
       " 'SearchMemoryUsage': 180128,\n",
       " 'SearchStatus': 'SearchCompleted',\n",
       " 'SearchStopCause': 'SearchHasNotBeenStopped',\n",
       " 'SolveTime': 0,\n",
       " 'TotalTime': 0}"
      ]
     },
     "execution_count": 18,
     "metadata": {},
     "output_type": "execute_result"
    }
   ],
   "source": [
    "sol.get_solver_infos()"
   ]
  },
  {
   "cell_type": "markdown",
   "metadata": {},
   "source": [
    "### 3.3. More thorough analysis\n",
    "\n",
    "We will evaluate properly the model using the decomposition `model_decomposition(n)` with the model using the global constraint `model_using_alldiff(n)`. For this reason we will increase the value of $n$ from 3 to $20$ and plot the runtime and the number of nodes for each model. \n",
    "\n",
    "In order to keep the runtime under control, we will **limit the solver to 15 seconds** per call using \n",
    "\n",
    "```python\n",
    "solve(TimeLimit=15, LogPeriod=100000)\n",
    "```\n",
    "\n",
    "The argument `LogPeriod` is used to limit the solver log in size. You can change it accordingly. \n",
    "\n",
    "Have a look at the different parameters we can indicate to the solve function. A better and modular way to play with parameters is to use CpoParameters. \n",
    "\n",
    "Example: \n",
    "\n",
    "```python\n",
    "from docplex.cp.parameters import CpoParameters\n",
    "\n",
    "params = CpoParameters(TimeLimit=10, LogPeriod=100000)\n",
    "\n",
    "...\n",
    "\n",
    "sol = model.solve(TimeLimit=params.TimeLimit, LogPeriod=params.LogPeriod)\n",
    "```\n",
    "\n",
    "When a solver hits the time timit, it will simply stop the search and says that it could not solve the problem within the time limit. \n",
    "\n",
    "**Exercice:** Write a function `run(model, params)` that run the solver on the model `model` using the parameters `params`. The function returns the tuple of statistics `[number of nodes, total runtime, search status]`."
   ]
  },
  {
   "cell_type": "code",
   "execution_count": 19,
   "metadata": {
    "ExecuteTime": {
     "end_time": "2021-01-14T20:41:08.325798Z",
     "start_time": "2021-01-14T20:41:08.320994Z"
    }
   },
   "outputs": [],
   "source": [
    "from docplex.cp.parameters import CpoParameters\n",
    "\n",
    "\n",
    "def run(model: CpoModel, params: CpoParameters):\n",
    "\n",
    "    return model.solve(TimeLimit=params.TimeLimit, LogPeriod=params.LogPeriod)"
   ]
  },
  {
   "cell_type": "markdown",
   "metadata": {},
   "source": [
    "**Exercice:** Using the `run(model, params)` function, run the two models `model_decomposition(n)` and `model_using_alldiff(n)` for $n \\in [3,20]$ using the list of parameters `[TimeLimit=15, LogPeriod=100000]`. "
   ]
  },
  {
   "cell_type": "code",
   "execution_count": 20,
   "metadata": {
    "ExecuteTime": {
     "end_time": "2021-01-14T20:43:43.384005Z",
     "start_time": "2021-01-14T20:41:08.327642Z"
    }
   },
   "outputs": [],
   "source": [
    "import matplotlib.pyplot as plt\n",
    "sols = {'decomposition': [], 'alldiff': []}\n",
    "params = CpoParameters(TimeLimit=15, LogPeriod=100000)\n",
    "for n in range(3, 21):\n",
    "    sols['decomposition'] += [run(model_decomposition(n), params)]\n",
    "    sols['alldiff'] += [run(model_using_alldiff(n), params)]"
   ]
  },
  {
   "cell_type": "markdown",
   "metadata": {},
   "source": [
    "**Exercice:** Give two plots to compare the two models. The first one is to evalue the runtime and the second one to to evalute the size of the search tree."
   ]
  },
  {
   "cell_type": "code",
   "execution_count": 21,
   "metadata": {
    "ExecuteTime": {
     "end_time": "2021-01-14T20:43:43.593444Z",
     "start_time": "2021-01-14T20:43:43.385335Z"
    }
   },
   "outputs": [
    {
     "data": {
      "image/png": "[encoded data removed]",
      "text/plain": [
       "<Figure size 576x576 with 1 Axes>"
      ]
     },
     "metadata": {
      "needs_background": "light"
     },
     "output_type": "display_data"
    }
   ],
   "source": [
    "import numpy as np\n",
    "plt.figure(figsize=(8, 8))\n",
    "plt.plot(range(3, 21), [sol.get_solver_infos()['TotalTime']\n",
    "                        for sol in sols['decomposition']], label='decomposition')\n",
    "plt.plot(range(3, 21), [sol.get_solver_infos()['TotalTime']\n",
    "                        for sol in sols['alldiff']], label='alldiff')\n",
    "plt.grid(True)\n",
    "plt.legend()\n",
    "plt.xlabel(\"Number of variables\")\n",
    "plt.ylabel(\"Runtime (s)\")\n",
    "plt.show()"
   ]
  },
  {
   "cell_type": "code",
   "execution_count": 22,
   "metadata": {
    "ExecuteTime": {
     "end_time": "2021-01-14T20:43:43.747865Z",
     "start_time": "2021-01-14T20:43:43.598741Z"
    }
   },
   "outputs": [
    {
     "data": {
      "image/png": "[encoded data removed]",
      "text/plain": [
       "<Figure size 576x576 with 1 Axes>"
      ]
     },
     "metadata": {
      "needs_background": "light"
     },
     "output_type": "display_data"
    }
   ],
   "source": [
    "import numpy as np\n",
    "plt.figure(figsize=(8, 8))\n",
    "plt.plot(range(3, 21), [sol.get_solver_infos()['NumberOfChoicePoints']\n",
    "                        for sol in sols['decomposition']], label='decomposition')\n",
    "plt.plot(range(3, 21), [sol.get_solver_infos()['NumberOfChoicePoints']\n",
    "                        for sol in sols['alldiff']], label='alldiff')\n",
    "plt.grid(True)\n",
    "plt.xlabel(\"Number of variables\")\n",
    "plt.ylabel(\"Runtime (s)\")\n",
    "plt.legend()\n",
    "plt.show()"
   ]
  },
  {
   "cell_type": "markdown",
   "metadata": {},
   "source": [
    "**Question:** Compare the performances of these models. "
   ]
  },
  {
   "cell_type": "markdown",
   "metadata": {},
   "source": [
    "All diff is much better "
   ]
  },
  {
   "cell_type": "markdown",
   "metadata": {},
   "source": [
    "**Exercice:** Using the `model_alldiff(n)`, solve this problem for $n=  \\{10, 100, 1000, 10000, 100000 \\}$. Whar are the values of the runtime and the number of nodes? "
   ]
  },
  {
   "cell_type": "code",
   "execution_count": 23,
   "metadata": {
    "ExecuteTime": {
     "end_time": "2021-01-14T20:43:46.040072Z",
     "start_time": "2021-01-14T20:43:43.750776Z"
    }
   },
   "outputs": [
    {
     "data": {
      "image/png": "[encoded data removed]",
      "text/plain": [
       "<Figure size 576x576 with 1 Axes>"
      ]
     },
     "metadata": {
      "needs_background": "light"
     },
     "output_type": "display_data"
    }
   ],
   "source": [
    "N = [10, 100, 1000, 10000, 100000]\n",
    "sols = {'decomposition': [], 'alldiff': []}\n",
    "params = CpoParameters(TimeLimit=10, LogPeriod=100000)\n",
    "for n in N:\n",
    "\n",
    "    sols['alldiff'] += [run(model_using_alldiff(n), params)]\n",
    "\n",
    "plt.figure(figsize=(8, 8))\n",
    "plt.plot(N, [sol.get_solver_infos()['TotalTime']\n",
    "             for sol in sols['alldiff']], label='alldiff')\n",
    "plt.grid(True)\n",
    "plt.legend()\n",
    "plt.title('Runtime of the all_diff model with respect to n')\n",
    "plt.xlabel(\"Number of variables\")\n",
    "plt.ylabel(\"Runtime (s)\")\n",
    "plt.show()"
   ]
  },
  {
   "cell_type": "code",
   "execution_count": 24,
   "metadata": {
    "ExecuteTime": {
     "end_time": "2021-01-14T20:43:46.200211Z",
     "start_time": "2021-01-14T20:43:46.041267Z"
    }
   },
   "outputs": [
    {
     "data": {
      "image/png": "[encoded data removed]",
      "text/plain": [
       "<Figure size 576x576 with 1 Axes>"
      ]
     },
     "metadata": {
      "needs_background": "light"
     },
     "output_type": "display_data"
    }
   ],
   "source": [
    "plt.figure(figsize=(8, 8))\n",
    "plt.plot(N, [sol.get_solver_infos()['NumberOfChoicePoints']\n",
    "             for sol in sols['alldiff']], label='alldiff')\n",
    "plt.grid(True)\n",
    "plt.legend()\n",
    "plt.title('Number of choice points of the all_diff model with respect to n')\n",
    "plt.show()"
   ]
  },
  {
   "cell_type": "markdown",
   "metadata": {},
   "source": [
    "## 4. Conclusion\n",
    "\n",
    "**Question:** What's your overall impression ? what did you learn today? "
   ]
  },
  {
   "cell_type": "markdown",
   "metadata": {},
   "source": [
    "It is very important to use global constraints instead of several separate binary constraints. \n",
    "\n",
    "Indeed, the comparison of the decomposition model and the all_diff model clearly shows that from n = 8, the runtime of the decomposition model starts incrasing exponentially whereas the runtime of the all_diff model stays close to 0. (see figures of the 'Moving to larger problem' part)\n",
    "\n",
    "Secondly, even when we force n to larger valuer (from 10 to 100000), we can see that the runtime stays below 0.2 seconds, whereas we could imagine that the runtime without the global constraints could easily reach hours for these large values of n. It is also important to notice that the number of nodes stays equal to zero when global constraints are used whatever n is given, whereas it is almost equal to 3*10**6 sec from n=11 with the decomposition model. (see figures of the 'More through analysis' part)"
   ]
  }
 ],
 "metadata": {
  "kernelspec": {
   "display_name": "Python 3.8 (Default)",
   "language": "python",
   "name": "python3"
  },
  "language_info": {
   "codemirror_mode": {
    "name": "ipython",
    "version": 3
   },
   "file_extension": ".py",
   "mimetype": "text/x-python",
   "name": "python",
   "nbconvert_exporter": "python",
   "pygments_lexer": "ipython3",
   "version": "3.8.3"
  },
  "toc": {
   "base_numbering": 1,
   "nav_menu": {},
   "number_sections": true,
   "sideBar": true,
   "skip_h1_title": false,
   "title_cell": "Table of Contents",
   "title_sidebar": "Contents",
   "toc_cell": false,
   "toc_position": {},
   "toc_section_display": true,
   "toc_window_display": true
  },
  "varInspector": {
   "cols": {
    "lenName": 16,
    "lenType": 16,
    "lenVar": 40
   },
   "kernels_config": {
    "python": {
     "delete_cmd_postfix": "",
     "delete_cmd_prefix": "del ",
     "library": "var_list.py",
     "varRefreshCmd": "print(var_dic_list())"
    },
    "r": {
     "delete_cmd_postfix": ") ",
     "delete_cmd_prefix": "rm(",
     "library": "var_list.r",
     "varRefreshCmd": "cat(var_dic_list()) "
    }
   },
   "types_to_exclude": [
    "module",
    "function",
    "builtin_function_or_method",
    "instance",
    "_Feature"
   ],
   "window_display": false
  }
 },
 "nbformat": 4,
 "nbformat_minor": 2
}
